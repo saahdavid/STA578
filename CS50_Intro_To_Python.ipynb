{
  "nbformat": 4,
  "nbformat_minor": 0,
  "metadata": {
    "colab": {
      "provenance": [],
      "collapsed_sections": [
        "Xuo1wyiZV4s3",
        "MzyaZhQvV2rH",
        "49ff28SwH_QD"
      ],
      "authorship_tag": "ABX9TyPiI6j+VrK1FGQLLboI5tuI",
      "include_colab_link": true
    },
    "kernelspec": {
      "name": "python3",
      "display_name": "Python 3"
    },
    "language_info": {
      "name": "python"
    }
  },
  "cells": [
    {
      "cell_type": "markdown",
      "metadata": {
        "id": "view-in-github",
        "colab_type": "text"
      },
      "source": [
        "<a href=\"https://colab.research.google.com/github/saahdavid/STA578/blob/main/CS50_Intro_To_Python.ipynb\" target=\"_parent\"><img src=\"https://colab.research.google.com/assets/colab-badge.svg\" alt=\"Open In Colab\"/></a>"
      ]
    },
    {
      "cell_type": "markdown",
      "source": [
        "# CS50 Introduction to Programming in Python"
      ],
      "metadata": {
        "id": "q4LRJHDYVioN"
      }
    },
    {
      "cell_type": "markdown",
      "source": [
        "## Functions, variables"
      ],
      "metadata": {
        "id": "Xuo1wyiZV4s3"
      }
    },
    {
      "cell_type": "code",
      "execution_count": null,
      "metadata": {
        "colab": {
          "base_uri": "https://localhost:8080/"
        },
        "id": "S_UNigPQFbmF",
        "outputId": "d104b79a-4b74-4940-8e96-fc038c87a8b4"
      },
      "outputs": [
        {
          "output_type": "stream",
          "name": "stdout",
          "text": [
            "What is your name? David saah\n",
            "Hello, David Saah\n"
          ]
        }
      ],
      "source": [
        "# Ask user for their name / Remove whitespace from str and capitalize user's name\n",
        "name = input('What is your name? ').strip().title()\n",
        "\n",
        "\n",
        "# Split user's name into first and last name\n",
        "first, last = name.split(\" \")\n",
        "\n",
        "# # Say hello to user\n",
        "print(f\"Hello, {first} {last}\")"
      ]
    },
    {
      "cell_type": "code",
      "source": [
        "# Int function\n",
        "\n",
        "## Calculator\n",
        "\n",
        "x, y = int(input(\"What's x? \")), int(input(\"What's y? \"))\n",
        "\n",
        "print(x + y)"
      ],
      "metadata": {
        "colab": {
          "base_uri": "https://localhost:8080/"
        },
        "id": "an8lUXxdLnvo",
        "outputId": "54395aaa-72a7-47bd-96a3-01b38f616d4e"
      },
      "execution_count": null,
      "outputs": [
        {
          "output_type": "stream",
          "name": "stdout",
          "text": [
            "What's x? 2\n",
            "What's y? 1\n",
            "3\n"
          ]
        }
      ]
    },
    {
      "cell_type": "code",
      "source": [
        "# float function\n",
        "\n",
        "## Calculator\n",
        "\n",
        "x, y = float(input(\"What's x? \")), float(input(\"What's y? \"))\n",
        "\n",
        "print(\"Floating point value :\",x + y)\n",
        "\n",
        "# rounding to a particular number of decimal places\n",
        "z = round(x+y)\n",
        "print(\"Round to nearest integer: \", z)\n",
        "\n",
        "# adding commas\n",
        "print(f\"Formating values: {z:,}\")"
      ],
      "metadata": {
        "colab": {
          "base_uri": "https://localhost:8080/"
        },
        "id": "cFt6rd4nMKjY",
        "outputId": "f72bafba-0e48-4bb4-82b8-1b6dba95476e"
      },
      "execution_count": null,
      "outputs": [
        {
          "output_type": "stream",
          "name": "stdout",
          "text": [
            "What's x? 99999\n",
            "What's y? 1000\n",
            "Floating point value : 100999.0\n",
            "Round to nearest integer:  100999\n",
            "Formating values: 100,999\n"
          ]
        }
      ]
    },
    {
      "cell_type": "code",
      "source": [
        "# simple division\n",
        "\n",
        "x, y = float(input(\"What's x? \")), float(input(\"What's y? \"))\n",
        "\n",
        "z = x / y\n",
        "\n",
        "print(f\"{z:.2f}\")"
      ],
      "metadata": {
        "colab": {
          "base_uri": "https://localhost:8080/"
        },
        "id": "Eg95M0L4P73O",
        "outputId": "c74b9a27-966c-4bde-8ac6-71f21bae738a"
      },
      "execution_count": null,
      "outputs": [
        {
          "output_type": "stream",
          "name": "stdout",
          "text": [
            "What's x? 10\n",
            "What's y? 3\n",
            "3.33\n"
          ]
        }
      ]
    },
    {
      "cell_type": "markdown",
      "source": [
        "Functions"
      ],
      "metadata": {
        "id": "N_sTrgNRQpDL"
      }
    },
    {
      "cell_type": "code",
      "source": [
        "# define a function call `hello()`\n",
        "def main():\n",
        "    name = input(\"What is your name? \")\n",
        "    hello(name)\n",
        "\n",
        "def hello(to = \"world\"):\n",
        "    print(\"Hello,\", to)\n",
        "\n",
        "main()"
      ],
      "metadata": {
        "colab": {
          "base_uri": "https://localhost:8080/"
        },
        "id": "GPfieNb2QsZk",
        "outputId": "c2784d87-e07c-4d1b-9604-d20523009017"
      },
      "execution_count": null,
      "outputs": [
        {
          "output_type": "stream",
          "name": "stdout",
          "text": [
            "What is your name? David\n",
            "Hello, David\n"
          ]
        }
      ]
    },
    {
      "cell_type": "code",
      "source": [
        "# define a function to take the square of a number\n",
        "\n",
        "def main():\n",
        "    x = int(input(\"What's x? \"))\n",
        "    print(\"x squared is \", square(x))\n",
        "\n",
        "def square(n):\n",
        "    return n ** 2\n",
        "\n",
        "main()"
      ],
      "metadata": {
        "colab": {
          "base_uri": "https://localhost:8080/"
        },
        "id": "r58cN2xpULkJ",
        "outputId": "925865bc-e83a-44dc-cd4c-fb4c29b2a740"
      },
      "execution_count": null,
      "outputs": [
        {
          "output_type": "stream",
          "name": "stdout",
          "text": [
            "What's x? 2\n",
            "x squared is  4\n"
          ]
        }
      ]
    },
    {
      "cell_type": "markdown",
      "source": [
        "## Conditionals\n"
      ],
      "metadata": {
        "id": "MzyaZhQvV2rH"
      }
    },
    {
      "cell_type": "code",
      "source": [
        "# code of compare\n",
        "\n",
        "x, y = int(input(\"What's x? \")), int(input(\"What's y? \"))\n",
        "\n",
        "if x < y:\n",
        "    print(\"x is less than y\")\n",
        "elif x > y:\n",
        "    print(\"x is greater than y\")\n",
        "else:\n",
        "    print(\"x is equal to y\")"
      ],
      "metadata": {
        "colab": {
          "base_uri": "https://localhost:8080/"
        },
        "id": "nC4ODLcJV4Ev",
        "outputId": "2dd61423-c92d-4faf-b653-bae4d268ca7e"
      },
      "execution_count": null,
      "outputs": [
        {
          "output_type": "stream",
          "name": "stdout",
          "text": [
            "What's x? 2\n",
            "What's y? 2\n",
            "x is equal to y\n"
          ]
        }
      ]
    },
    {
      "cell_type": "code",
      "source": [
        "# code of compare\n",
        "\n",
        "x, y = int(input(\"What's x? \")), int(input(\"What's y? \"))\n",
        "\n",
        "if x == y:\n",
        "    print(\"x is equal to y\")\n",
        "else:\n",
        "    print(\"x is not equal to y\")"
      ],
      "metadata": {
        "colab": {
          "base_uri": "https://localhost:8080/"
        },
        "id": "rhXiCw2da_bB",
        "outputId": "9cde7dcb-2e11-4d1d-a775-e5604731bade"
      },
      "execution_count": null,
      "outputs": [
        {
          "output_type": "stream",
          "name": "stdout",
          "text": [
            "What's x? 1\n",
            "What's y? 1\n",
            "x is equal to y\n"
          ]
        }
      ]
    },
    {
      "cell_type": "code",
      "source": [
        "score = int(input(\"Score: \"))\n",
        "\n",
        "if 90 <= score:\n",
        "    print(\"Grade: A\")\n",
        "elif 80 <= score:\n",
        "    print(\"Grade: B\")\n",
        "elif 70 <= score:\n",
        "    print(\"Grade: C\")\n",
        "elif 60 <= score:\n",
        "    print(\"Grade: D\")\n",
        "else:\n",
        "    print(\"Grade: F\")"
      ],
      "metadata": {
        "colab": {
          "base_uri": "https://localhost:8080/"
        },
        "id": "Yq7EwW9jbdwc",
        "outputId": "878d6be6-863f-4e10-f6aa-344a4441f60d"
      },
      "execution_count": null,
      "outputs": [
        {
          "output_type": "stream",
          "name": "stdout",
          "text": [
            "Score: 86\n",
            "Grade: B\n"
          ]
        }
      ]
    },
    {
      "cell_type": "code",
      "source": [
        "# parity\n",
        "\n",
        "def main():\n",
        "    x = int(input(\"What's x? \"))\n",
        "    if is_even(x):\n",
        "        print(\"Even\")\n",
        "    else:\n",
        "        print(\"Odd\")\n",
        "\n",
        "def is_even(n):\n",
        "    if n % 2 == 0:\n",
        "        return True\n",
        "    else:\n",
        "        return False\n",
        "\n",
        "main()"
      ],
      "metadata": {
        "colab": {
          "base_uri": "https://localhost:8080/"
        },
        "id": "zlrCTJpNeJiA",
        "outputId": "34c4b6bf-698f-4051-fde8-0a81f8c40adb"
      },
      "execution_count": null,
      "outputs": [
        {
          "output_type": "stream",
          "name": "stdout",
          "text": [
            "What's x? -2\n",
            "Even\n"
          ]
        }
      ]
    },
    {
      "cell_type": "code",
      "source": [
        "# parity\n",
        "\n",
        "def main():\n",
        "    x = int(input(\"What's x? \"))\n",
        "    if is_even(x):\n",
        "        print(\"Even\")\n",
        "    else:\n",
        "        print(\"Odd\")\n",
        "\n",
        "def is_even(n):\n",
        "    return n % 2 == 0\n",
        "\n",
        "main()"
      ],
      "metadata": {
        "colab": {
          "base_uri": "https://localhost:8080/"
        },
        "id": "RQ9fjojtgknP",
        "outputId": "c53c8cd9-c145-44df-9510-ccf53f43f678"
      },
      "execution_count": null,
      "outputs": [
        {
          "output_type": "stream",
          "name": "stdout",
          "text": [
            "What's x? 2\n",
            "Even\n"
          ]
        }
      ]
    },
    {
      "cell_type": "code",
      "source": [
        "# house\n",
        "name = input(\"What's your name? \")\n",
        "\n",
        "match name:\n",
        "    case \"Harry\" | \"Hermione\" | \"Ron\":\n",
        "        print(\"Gryffindor\")\n",
        "    case \"Draco\":\n",
        "        print(\"Slytherin\")\n",
        "    case _:\n",
        "        print(\"Who?\")"
      ],
      "metadata": {
        "colab": {
          "base_uri": "https://localhost:8080/"
        },
        "id": "OALGQ-fjhM4Y",
        "outputId": "6430f4e7-849e-4b22-b44f-482e3047778d"
      },
      "execution_count": null,
      "outputs": [
        {
          "output_type": "stream",
          "name": "stdout",
          "text": [
            "What's your name? Draco\n",
            "Slytherin\n"
          ]
        }
      ]
    },
    {
      "cell_type": "markdown",
      "source": [
        "## Loops"
      ],
      "metadata": {
        "id": "49ff28SwH_QD"
      }
    },
    {
      "cell_type": "code",
      "source": [
        "\"\"\" while loop \"\"\"\n",
        "i = 0\n",
        "\n",
        "while i < 3:\n",
        "    print(\"meow\")\n",
        "    i += 1"
      ],
      "metadata": {
        "colab": {
          "base_uri": "https://localhost:8080/"
        },
        "id": "BR4B3fwbIDJ9",
        "outputId": "aea59200-3477-4335-bf93-329f56f877cd"
      },
      "execution_count": null,
      "outputs": [
        {
          "output_type": "stream",
          "name": "stdout",
          "text": [
            "meow\n",
            "meow\n",
            "meow\n"
          ]
        }
      ]
    },
    {
      "cell_type": "code",
      "source": [
        "\"\"\" for loop \"\"\"\n",
        "\n",
        "for _ in range(0,3):\n",
        "    print(\"meow\")"
      ],
      "metadata": {
        "colab": {
          "base_uri": "https://localhost:8080/"
        },
        "id": "8PevFBoPLHT4",
        "outputId": "a0ce2543-1bef-4383-8b02-7a9999e9edd8"
      },
      "execution_count": null,
      "outputs": [
        {
          "output_type": "stream",
          "name": "stdout",
          "text": [
            "meow\n",
            "meow\n",
            "meow\n"
          ]
        }
      ]
    },
    {
      "cell_type": "code",
      "source": [
        "print(\"meow\\n\" * 3, end=\"\")"
      ],
      "metadata": {
        "colab": {
          "base_uri": "https://localhost:8080/"
        },
        "id": "nQ9-p2t2MFvj",
        "outputId": "729ff93f-ad82-4329-a66e-4eeb41fbc524"
      },
      "execution_count": null,
      "outputs": [
        {
          "output_type": "stream",
          "name": "stdout",
          "text": [
            "meow\n",
            "meow\n",
            "meow\n"
          ]
        }
      ]
    },
    {
      "cell_type": "code",
      "source": [
        "while True:\n",
        "    n = int(input(\"What's n? \"))\n",
        "    if n > 0:\n",
        "        break\n",
        "\n",
        "for _ in range(n):\n",
        "    print(\"meow\")"
      ],
      "metadata": {
        "id": "uHniWVtIN1vw"
      },
      "execution_count": null,
      "outputs": []
    },
    {
      "cell_type": "code",
      "source": [
        "def main():\n",
        "    number = get_number()\n",
        "    meow(number)\n",
        "\n",
        "def get_number():\n",
        "    while True:\n",
        "        n = int(input(\"What's n? \"))\n",
        "        if n > 0:\n",
        "            break\n",
        "    return n\n",
        "\n",
        "\n",
        "def meow(n):\n",
        "    for _ in range(n):\n",
        "        print(\"meow\")\n",
        "\n",
        "main()"
      ],
      "metadata": {
        "colab": {
          "base_uri": "https://localhost:8080/"
        },
        "id": "K2PMf2b4Oh-E",
        "outputId": "68f3a198-48f3-4d51-c8ab-4247c3c30a6f"
      },
      "execution_count": null,
      "outputs": [
        {
          "output_type": "stream",
          "name": "stdout",
          "text": [
            "What's n? 3\n",
            "meow\n",
            "meow\n",
            "meow\n"
          ]
        }
      ]
    },
    {
      "cell_type": "code",
      "source": [
        "# Hogwarts\n",
        "students = [\"Hermione\", \"Harry\", \"Ron\"]\n",
        "for student in students:\n",
        "    print(student)"
      ],
      "metadata": {
        "colab": {
          "base_uri": "https://localhost:8080/"
        },
        "id": "TGu6oKzDPTbY",
        "outputId": "6c85cd05-f907-4194-b213-f301e87fd6aa"
      },
      "execution_count": null,
      "outputs": [
        {
          "output_type": "stream",
          "name": "stdout",
          "text": [
            "Hermione\n",
            "Harry\n",
            "Ron\n"
          ]
        }
      ]
    },
    {
      "cell_type": "code",
      "source": [
        "students = [\"Hermione\", \"Harry\", \"Ron\"]\n",
        "for i in range(len(students)):\n",
        "    print(i, students[i])"
      ],
      "metadata": {
        "colab": {
          "base_uri": "https://localhost:8080/"
        },
        "id": "JfmEEp5NPq-c",
        "outputId": "81a33bbb-4d79-4c97-aa54-091eb3ec054f"
      },
      "execution_count": null,
      "outputs": [
        {
          "output_type": "stream",
          "name": "stdout",
          "text": [
            "0 Hermione\n",
            "1 Harry\n",
            "2 Ron\n"
          ]
        }
      ]
    },
    {
      "cell_type": "code",
      "source": [
        "# dictionary\n",
        "\n",
        "'''\n",
        "students = [\"Hermione\", \"Harry\", \"Ron\", \"Draco\"]\n",
        "houses = [\"Gryffindor\", \"Gryffindor\", \"Gryffindor\", \"Slytherin\"]\n",
        "'''\n",
        "\n",
        "students = {\"Hermione\": \"Gryffindor\",\n",
        "            \"Harry\" : \"Gryffindor\",\n",
        "            \"Ron\" : \"Gryffindor\",\n",
        "            \"Draco\": \"Slytherin\"}\n",
        "\n",
        "for student in students:\n",
        "    print(student, students[student], sep = \", \")"
      ],
      "metadata": {
        "colab": {
          "base_uri": "https://localhost:8080/"
        },
        "id": "B3DRdeGuScmX",
        "outputId": "5005c1a8-ad38-4c36-af9d-9dce602d3e14"
      },
      "execution_count": null,
      "outputs": [
        {
          "output_type": "stream",
          "name": "stdout",
          "text": [
            "Hermione, Gryffindor\n",
            "Harry, Gryffindor\n",
            "Ron, Gryffindor\n",
            "Draco, Slytherin\n"
          ]
        }
      ]
    },
    {
      "cell_type": "code",
      "source": [
        "# dictionary\n",
        "\n",
        "students = [\n",
        "    {\"name\": \"Hermione\", \"house\": \"Gryffindor\", \"patronus\": \"Otter\"},\n",
        "    {\"name\": \"Harry\", \"house\": \"Gryffindor\", \"patronus\": \"Stag\"},\n",
        "    {\"name\": \"Ron\", \"house\": \"Gryffindor\", \"patronus\": \"Jack Russell terrier\"},\n",
        "    {\"name\": \"Draco\", \"house\": \"Slytherin\", \"patronus\": None}\n",
        "]\n",
        "\n",
        "for student in students:\n",
        "    print(student['name'], student['house'], student['patronus'], sep = \", \")"
      ],
      "metadata": {
        "colab": {
          "base_uri": "https://localhost:8080/"
        },
        "id": "0iEYfcsmU250",
        "outputId": "5424ef0a-6ddd-4bc5-b0dd-8fb70c8730d9"
      },
      "execution_count": null,
      "outputs": [
        {
          "output_type": "stream",
          "name": "stdout",
          "text": [
            "Hermione, Gryffindor, Otter\n",
            "Harry, Gryffindor, Stag\n",
            "Ron, Gryffindor, Jack Russell terrier\n",
            "Draco, Slytherin, None\n"
          ]
        }
      ]
    },
    {
      "cell_type": "code",
      "source": [
        "'''\n",
        "Mario\n",
        "'''\n",
        "\n",
        "def main():\n",
        "    print_column(3)\n",
        "\n",
        "\n",
        "def print_column(height):\n",
        "    print(\"#\\n\" * height, end=\"\")\n",
        "\n",
        "main()"
      ],
      "metadata": {
        "colab": {
          "base_uri": "https://localhost:8080/"
        },
        "id": "4_2z-3nKWzQA",
        "outputId": "3f2e516c-cb68-4a28-be68-d7540b0dbe5f"
      },
      "execution_count": null,
      "outputs": [
        {
          "output_type": "stream",
          "name": "stdout",
          "text": [
            "#\n",
            "#\n",
            "#\n"
          ]
        }
      ]
    },
    {
      "cell_type": "code",
      "source": [
        "def main():\n",
        "    print_row(4)\n",
        "\n",
        "\n",
        "def print_row(width):\n",
        "    print(\"?\" * width)\n",
        "\n",
        "main()"
      ],
      "metadata": {
        "colab": {
          "base_uri": "https://localhost:8080/"
        },
        "id": "8ORuKP6gX9PT",
        "outputId": "211cb1c1-f6c0-4355-d916-5b79bac12f4d"
      },
      "execution_count": null,
      "outputs": [
        {
          "output_type": "stream",
          "name": "stdout",
          "text": [
            "????\n"
          ]
        }
      ]
    },
    {
      "cell_type": "code",
      "source": [
        "def main():\n",
        "    print_square(3)\n",
        "\n",
        "def print_square(size):\n",
        "    # for each row in square\n",
        "    for i in range(size):\n",
        "        print(\"#\" * size)\n",
        "\n",
        "\n",
        "main()"
      ],
      "metadata": {
        "colab": {
          "base_uri": "https://localhost:8080/"
        },
        "id": "nnTuaMr-YaOP",
        "outputId": "39474a02-43d7-4161-8d6a-4e87f57b8332"
      },
      "execution_count": null,
      "outputs": [
        {
          "output_type": "stream",
          "name": "stdout",
          "text": [
            "###\n",
            "###\n",
            "###\n"
          ]
        }
      ]
    },
    {
      "cell_type": "markdown",
      "source": [
        "## Exceptions"
      ],
      "metadata": {
        "id": "c6w3RVGhaPLk"
      }
    },
    {
      "cell_type": "code",
      "source": [
        "''' Number '''\n",
        "def main():\n",
        "    x = get_int(\"What's x? \")\n",
        "    print(f\"x is {x}\")\n",
        "\n",
        "def get_int(prompt):\n",
        "    while True:\n",
        "        try:\n",
        "            return int(input(prompt))\n",
        "        except ValueError:\n",
        "            pass\n",
        "\n",
        "main()"
      ],
      "metadata": {
        "colab": {
          "base_uri": "https://localhost:8080/"
        },
        "id": "Afa-QMI3agMq",
        "outputId": "00ea9e12-60bf-4f70-df4e-fd8f5e4c8b94"
      },
      "execution_count": null,
      "outputs": [
        {
          "output_type": "stream",
          "name": "stdout",
          "text": [
            "What's x? d\n",
            "What's x? dog\n",
            "What's x? 3\n",
            "x is 3\n"
          ]
        }
      ]
    },
    {
      "cell_type": "markdown",
      "source": [
        "## Debugging\n"
      ],
      "metadata": {
        "id": "33wVQinn1tZ4"
      }
    },
    {
      "cell_type": "code",
      "source": [
        "'''Mario'''\n",
        "\n",
        "def main():\n",
        "    height = int(input(\"Height: \"))\n",
        "    pyramid(height)\n",
        "\n",
        "\n",
        "def pyramid(n):\n",
        "    for i in range(n):\n",
        "        print(\"#\" * i)\n",
        "\n",
        "if __name__ == \"__main__\":\n",
        "    main()"
      ],
      "metadata": {
        "colab": {
          "base_uri": "https://localhost:8080/"
        },
        "id": "m75Eezxp1vK6",
        "outputId": "53923452-bf6a-4122-ac39-68ad113eb053"
      },
      "execution_count": 8,
      "outputs": [
        {
          "output_type": "stream",
          "name": "stdout",
          "text": [
            "Height: 7\n",
            "\n",
            "#\n",
            "##\n",
            "###\n",
            "####\n",
            "#####\n",
            "######\n"
          ]
        }
      ]
    }
  ]
}